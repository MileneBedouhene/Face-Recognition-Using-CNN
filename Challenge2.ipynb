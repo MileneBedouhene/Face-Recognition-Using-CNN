{
  "nbformat": 4,
  "nbformat_minor": 0,
  "metadata": {
    "colab": {
      "provenance": [],
      "gpuType": "T4",
      "authorship_tag": "ABX9TyNMZFYhJDdcUi3LY+Jr/izS",
      "include_colab_link": true
    },
    "kernelspec": {
      "name": "python3",
      "display_name": "Python 3"
    },
    "language_info": {
      "name": "python"
    },
    "accelerator": "GPU"
  },
  "cells": [
    {
      "cell_type": "markdown",
      "metadata": {
        "id": "view-in-github",
        "colab_type": "text"
      },
      "source": [
        "<a href=\"https://colab.research.google.com/github/MileneBedouhene/Face-Recognition-Using-CNN/blob/main/Challenge2.ipynb\" target=\"_parent\"><img src=\"https://colab.research.google.com/assets/colab-badge.svg\" alt=\"Open In Colab\"/></a>"
      ]
    },
    {
      "cell_type": "code",
      "source": [
        "from google.colab import drive\n",
        "drive.mount('/content/drive')"
      ],
      "metadata": {
        "id": "UxblyAHvYZBH"
      },
      "execution_count": null,
      "outputs": []
    },
    {
      "cell_type": "markdown",
      "source": [
        "#### Data Augmentation"
      ],
      "metadata": {
        "id": "6HNEx0sraDeA"
      }
    },
    {
      "cell_type": "code",
      "source": [
        "from tensorflow.keras.preprocessing.image import ImageDataGenerator"
      ],
      "metadata": {
        "id": "DwZTCu4xY0LH"
      },
      "execution_count": null,
      "outputs": []
    },
    {
      "cell_type": "code",
      "source": [
        "TrainingImagePath= '/content/drive/MyDrive/Me/AI/DeepLearning/Challenges/FaceImages/FinalTrainingImages'\n",
        "TestingImagePath= '/content/drive/MyDrive/Me/AI/DeepLearning/Challenges/FaceImages/FinalTestingImages'"
      ],
      "metadata": {
        "id": "5gOQZY7oawaL"
      },
      "execution_count": null,
      "outputs": []
    },
    {
      "cell_type": "code",
      "source": [
        "# Defining pre-processing transformations on raw images of training data\n",
        "train_datagen = ImageDataGenerator(\n",
        "        shear_range=0.1,\n",
        "        zoom_range=0.1,\n",
        "        horizontal_flip=True)\n",
        "\n",
        "# No transformations are done on the testing images\n",
        "test_datagen = ImageDataGenerator()\n",
        "\n",
        "# Generating the Training Data\n",
        "training_set = train_datagen.flow_from_directory(\n",
        "        TrainingImagePath,\n",
        "        target_size=(64, 64),\n",
        "        batch_size=32,\n",
        "        class_mode='categorical')\n",
        "\n",
        "# Generating the Testing Data\n",
        "testing_set = test_datagen.flow_from_directory(\n",
        "        TestingImagePath,\n",
        "        target_size=(64, 64),\n",
        "        batch_size=32,\n",
        "        class_mode='categorical')"
      ],
      "metadata": {
        "id": "tJhOtg3Rc0m7"
      },
      "execution_count": null,
      "outputs": []
    },
    {
      "cell_type": "code",
      "source": [
        "# Displays a dictionary that associates each class with a numeric index\n",
        "testing_set.class_indices"
      ],
      "metadata": {
        "id": "RvTHwmlqfL8D"
      },
      "execution_count": null,
      "outputs": []
    },
    {
      "cell_type": "markdown",
      "source": [
        "#### Creating lookup table for all faces\n"
      ],
      "metadata": {
        "id": "emtvB5iplDFL"
      }
    },
    {
      "cell_type": "code",
      "source": [
        "# class_indices have the numeric tag for each face\n",
        "TrainClasses=training_set.class_indices\n",
        "\n",
        "# Storing the face and the numeric tag for future reference\n",
        "ResultMap={}\n",
        "for faceValue,faceName in zip(TrainClasses.values(),TrainClasses.keys()):\n",
        "    ResultMap[faceValue]=faceName\n",
        "\n",
        "# Saving the face map for future reference\n",
        "import pickle\n",
        "with open(\"ResultsMap.pkl\", 'wb') as fileWriteStream:\n",
        "    pickle.dump(ResultMap, fileWriteStream)\n",
        "\n",
        "\n",
        "print(\"Mapping of Face and its ID\",ResultMap)\n",
        "OutputNeurons=len(ResultMap)\n",
        "print('\\n The Number of output neurons: ', OutputNeurons)"
      ],
      "metadata": {
        "id": "8vy0jo3dhIKM"
      },
      "execution_count": null,
      "outputs": []
    },
    {
      "cell_type": "markdown",
      "source": [
        "#### Building The CNN"
      ],
      "metadata": {
        "id": "BfpOvQiUlcf9"
      }
    },
    {
      "cell_type": "code",
      "source": [
        "#Create CNN deep learning model\n",
        "from keras.models import Sequential\n",
        "from keras.layers import Convolution2D\n",
        "from keras.layers import MaxPool2D\n",
        "from keras.layers import Flatten\n",
        "from keras.layers import Dense"
      ],
      "metadata": {
        "id": "EwmChg8LlnUn"
      },
      "execution_count": null,
      "outputs": []
    },
    {
      "cell_type": "code",
      "source": [
        "#Initializing the Convolutional Neural Network\n",
        "classifier= Sequential()\n",
        "\n",
        "#STEP--1 Convolution\n",
        "# Adding the first layer of CNN\n",
        "# we are using the format (64,64,3) because we are using TensorFlow backend\n",
        "\n",
        "classifier.add(Convolution2D(32, kernel_size=(5, 5), strides=(1, 1), input_shape=(64,64,3), activation='relu'))\n",
        "\n",
        "# STEP--2 MAX Pooling\n",
        "classifier.add(MaxPool2D(pool_size=(2,2)))\n",
        "\n",
        "#ADDITIONAL LAYER of CONVOLUTION\n",
        "classifier.add(Convolution2D(64, kernel_size=(5, 5), strides=(1, 1), activation='relu'))\n",
        "\n",
        "# MAX Polling\n",
        "classifier.add(MaxPool2D(pool_size=(2,2)))\n",
        "\n",
        "# STEP--3 FLattening\n",
        "classifier.add(Flatten())\n",
        "\n",
        "# STEP--4 Fully Connected Neural Network\n",
        "classifier.add(Dense(128, activation='relu'))\n",
        "classifier.add(Dense(64, activation='relu'))\n",
        "classifier.add(Dense(OutputNeurons, activation='softmax'))\n"
      ],
      "metadata": {
        "id": "BtsUSRL2lRaG"
      },
      "execution_count": null,
      "outputs": []
    },
    {
      "cell_type": "code",
      "source": [
        "classifier.summary()"
      ],
      "metadata": {
        "id": "rnsgU0BCpHlv"
      },
      "execution_count": null,
      "outputs": []
    },
    {
      "cell_type": "code",
      "source": [
        "# Compiling the CNN\n",
        "classifier.compile(loss='categorical_crossentropy', optimizer = 'adam', metrics=[\"accuracy\"])"
      ],
      "metadata": {
        "id": "Olh7gCLypMNP"
      },
      "execution_count": null,
      "outputs": []
    },
    {
      "cell_type": "code",
      "source": [
        "import time\n",
        "# Measuring the time taken by the model to train\n",
        "StartTime=time.time()\n",
        "\n",
        "# Starting the model training\n",
        "classifier.fit(\n",
        "              training_set,\n",
        "              steps_per_epoch=30,\n",
        "              epochs=20)\n",
        "\n",
        "EndTime=time.time()\n",
        "print(\"Total Time Taken: \", round((EndTime-StartTime)/60), 'Minutes')"
      ],
      "metadata": {
        "id": "sQpfFcr6l5Xb"
      },
      "execution_count": null,
      "outputs": []
    },
    {
      "cell_type": "markdown",
      "source": [],
      "metadata": {
        "id": "Tx8VlDGko4ys"
      }
    },
    {
      "cell_type": "code",
      "source": [
        "import numpy as np\n",
        "from keras.preprocessing import image"
      ],
      "metadata": {
        "id": "CsORYOjLo5pk"
      },
      "execution_count": null,
      "outputs": []
    },
    {
      "cell_type": "code",
      "source": [
        "#Making single predictions\n",
        "\n",
        "\n",
        "ImagePath='/content/drive/MyDrive/Me/AI/DeepLearning/Challenges/FaceImages/FinalTestingImages/face6/3face6.jpg'\n",
        "test_image=image.load_img(ImagePath,target_size=(64, 64))\n",
        "test_image=image.img_to_array(test_image)\n",
        "\n",
        "test_image=np.expand_dims(test_image,axis=0)\n",
        "\n",
        "result=classifier.predict(test_image,verbose=0)\n",
        "#print(training_set.class_indices)\n",
        "\n",
        "\n",
        "print('Prediction is: ',ResultMap[np.argmax(result)])"
      ],
      "metadata": {
        "id": "_Go3BO_Coq5t"
      },
      "execution_count": null,
      "outputs": []
    }
  ]
}